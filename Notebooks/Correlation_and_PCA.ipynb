{
 "cells": [
  {
   "cell_type": "code",
   "execution_count": 1,
   "metadata": {},
   "outputs": [],
   "source": [
    "import pandas as pd\n",
    "import numpy as np\n",
    "import os"
   ]
  },
  {
   "cell_type": "code",
   "execution_count": 2,
   "metadata": {},
   "outputs": [
    {
     "name": "stdout",
     "output_type": "stream",
     "text": [
      "/home/wbaik/Code/data_science/playground_pytorch\n"
     ]
    }
   ],
   "source": [
    "cd .."
   ]
  },
  {
   "cell_type": "code",
   "execution_count": 6,
   "metadata": {},
   "outputs": [],
   "source": [
    "from postgres_utils import PostgresPandas"
   ]
  },
  {
   "cell_type": "code",
   "execution_count": 8,
   "metadata": {
    "scrolled": true
   },
   "outputs": [],
   "source": [
    "ppd = PostgresPandas()"
   ]
  },
  {
   "cell_type": "code",
   "execution_count": null,
   "metadata": {},
   "outputs": [],
   "source": [
    "ppd"
   ]
  },
  {
   "cell_type": "code",
   "execution_count": 3,
   "metadata": {},
   "outputs": [
    {
     "ename": "FileNotFoundError",
     "evalue": "File b'10K_data.csv' does not exist",
     "output_type": "error",
     "traceback": [
      "\u001b[0;31m---------------------------------------------------------------------------\u001b[0m",
      "\u001b[0;31mFileNotFoundError\u001b[0m                         Traceback (most recent call last)",
      "\u001b[0;32m<ipython-input-3-4aec809cd82b>\u001b[0m in \u001b[0;36m<module>\u001b[0;34m()\u001b[0m\n\u001b[0;32m----> 1\u001b[0;31m \u001b[0mfundamental_data\u001b[0m \u001b[0;34m=\u001b[0m \u001b[0mpd\u001b[0m\u001b[0;34m.\u001b[0m\u001b[0mread_csv\u001b[0m\u001b[0;34m(\u001b[0m\u001b[0;34m'10K_data.csv'\u001b[0m\u001b[0;34m)\u001b[0m\u001b[0;34m\u001b[0m\u001b[0m\n\u001b[0m\u001b[1;32m      2\u001b[0m \u001b[0mprice_data\u001b[0m \u001b[0;34m=\u001b[0m \u001b[0mpd\u001b[0m\u001b[0;34m.\u001b[0m\u001b[0mread_csv\u001b[0m\u001b[0;34m(\u001b[0m\u001b[0;34m'./fundamental_data/price_data'\u001b[0m\u001b[0;34m)\u001b[0m\u001b[0;34m\u001b[0m\u001b[0m\n",
      "\u001b[0;32m/usr/local/lib/python3.6/dist-packages/pandas/io/parsers.py\u001b[0m in \u001b[0;36mparser_f\u001b[0;34m(filepath_or_buffer, sep, delimiter, header, names, index_col, usecols, squeeze, prefix, mangle_dupe_cols, dtype, engine, converters, true_values, false_values, skipinitialspace, skiprows, nrows, na_values, keep_default_na, na_filter, verbose, skip_blank_lines, parse_dates, infer_datetime_format, keep_date_col, date_parser, dayfirst, iterator, chunksize, compression, thousands, decimal, lineterminator, quotechar, quoting, escapechar, comment, encoding, dialect, tupleize_cols, error_bad_lines, warn_bad_lines, skipfooter, skip_footer, doublequote, delim_whitespace, as_recarray, compact_ints, use_unsigned, low_memory, buffer_lines, memory_map, float_precision)\u001b[0m\n\u001b[1;32m    703\u001b[0m                     skip_blank_lines=skip_blank_lines)\n\u001b[1;32m    704\u001b[0m \u001b[0;34m\u001b[0m\u001b[0m\n\u001b[0;32m--> 705\u001b[0;31m         \u001b[0;32mreturn\u001b[0m \u001b[0m_read\u001b[0m\u001b[0;34m(\u001b[0m\u001b[0mfilepath_or_buffer\u001b[0m\u001b[0;34m,\u001b[0m \u001b[0mkwds\u001b[0m\u001b[0;34m)\u001b[0m\u001b[0;34m\u001b[0m\u001b[0m\n\u001b[0m\u001b[1;32m    706\u001b[0m \u001b[0;34m\u001b[0m\u001b[0m\n\u001b[1;32m    707\u001b[0m     \u001b[0mparser_f\u001b[0m\u001b[0;34m.\u001b[0m\u001b[0m__name__\u001b[0m \u001b[0;34m=\u001b[0m \u001b[0mname\u001b[0m\u001b[0;34m\u001b[0m\u001b[0m\n",
      "\u001b[0;32m/usr/local/lib/python3.6/dist-packages/pandas/io/parsers.py\u001b[0m in \u001b[0;36m_read\u001b[0;34m(filepath_or_buffer, kwds)\u001b[0m\n\u001b[1;32m    443\u001b[0m \u001b[0;34m\u001b[0m\u001b[0m\n\u001b[1;32m    444\u001b[0m     \u001b[0;31m# Create the parser.\u001b[0m\u001b[0;34m\u001b[0m\u001b[0;34m\u001b[0m\u001b[0m\n\u001b[0;32m--> 445\u001b[0;31m     \u001b[0mparser\u001b[0m \u001b[0;34m=\u001b[0m \u001b[0mTextFileReader\u001b[0m\u001b[0;34m(\u001b[0m\u001b[0mfilepath_or_buffer\u001b[0m\u001b[0;34m,\u001b[0m \u001b[0;34m**\u001b[0m\u001b[0mkwds\u001b[0m\u001b[0;34m)\u001b[0m\u001b[0;34m\u001b[0m\u001b[0m\n\u001b[0m\u001b[1;32m    446\u001b[0m \u001b[0;34m\u001b[0m\u001b[0m\n\u001b[1;32m    447\u001b[0m     \u001b[0;32mif\u001b[0m \u001b[0mchunksize\u001b[0m \u001b[0;32mor\u001b[0m \u001b[0miterator\u001b[0m\u001b[0;34m:\u001b[0m\u001b[0;34m\u001b[0m\u001b[0m\n",
      "\u001b[0;32m/usr/local/lib/python3.6/dist-packages/pandas/io/parsers.py\u001b[0m in \u001b[0;36m__init__\u001b[0;34m(self, f, engine, **kwds)\u001b[0m\n\u001b[1;32m    812\u001b[0m             \u001b[0mself\u001b[0m\u001b[0;34m.\u001b[0m\u001b[0moptions\u001b[0m\u001b[0;34m[\u001b[0m\u001b[0;34m'has_index_names'\u001b[0m\u001b[0;34m]\u001b[0m \u001b[0;34m=\u001b[0m \u001b[0mkwds\u001b[0m\u001b[0;34m[\u001b[0m\u001b[0;34m'has_index_names'\u001b[0m\u001b[0;34m]\u001b[0m\u001b[0;34m\u001b[0m\u001b[0m\n\u001b[1;32m    813\u001b[0m \u001b[0;34m\u001b[0m\u001b[0m\n\u001b[0;32m--> 814\u001b[0;31m         \u001b[0mself\u001b[0m\u001b[0;34m.\u001b[0m\u001b[0m_make_engine\u001b[0m\u001b[0;34m(\u001b[0m\u001b[0mself\u001b[0m\u001b[0;34m.\u001b[0m\u001b[0mengine\u001b[0m\u001b[0;34m)\u001b[0m\u001b[0;34m\u001b[0m\u001b[0m\n\u001b[0m\u001b[1;32m    815\u001b[0m \u001b[0;34m\u001b[0m\u001b[0m\n\u001b[1;32m    816\u001b[0m     \u001b[0;32mdef\u001b[0m \u001b[0mclose\u001b[0m\u001b[0;34m(\u001b[0m\u001b[0mself\u001b[0m\u001b[0;34m)\u001b[0m\u001b[0;34m:\u001b[0m\u001b[0;34m\u001b[0m\u001b[0m\n",
      "\u001b[0;32m/usr/local/lib/python3.6/dist-packages/pandas/io/parsers.py\u001b[0m in \u001b[0;36m_make_engine\u001b[0;34m(self, engine)\u001b[0m\n\u001b[1;32m   1043\u001b[0m     \u001b[0;32mdef\u001b[0m \u001b[0m_make_engine\u001b[0m\u001b[0;34m(\u001b[0m\u001b[0mself\u001b[0m\u001b[0;34m,\u001b[0m \u001b[0mengine\u001b[0m\u001b[0;34m=\u001b[0m\u001b[0;34m'c'\u001b[0m\u001b[0;34m)\u001b[0m\u001b[0;34m:\u001b[0m\u001b[0;34m\u001b[0m\u001b[0m\n\u001b[1;32m   1044\u001b[0m         \u001b[0;32mif\u001b[0m \u001b[0mengine\u001b[0m \u001b[0;34m==\u001b[0m \u001b[0;34m'c'\u001b[0m\u001b[0;34m:\u001b[0m\u001b[0;34m\u001b[0m\u001b[0m\n\u001b[0;32m-> 1045\u001b[0;31m             \u001b[0mself\u001b[0m\u001b[0;34m.\u001b[0m\u001b[0m_engine\u001b[0m \u001b[0;34m=\u001b[0m \u001b[0mCParserWrapper\u001b[0m\u001b[0;34m(\u001b[0m\u001b[0mself\u001b[0m\u001b[0;34m.\u001b[0m\u001b[0mf\u001b[0m\u001b[0;34m,\u001b[0m \u001b[0;34m**\u001b[0m\u001b[0mself\u001b[0m\u001b[0;34m.\u001b[0m\u001b[0moptions\u001b[0m\u001b[0;34m)\u001b[0m\u001b[0;34m\u001b[0m\u001b[0m\n\u001b[0m\u001b[1;32m   1046\u001b[0m         \u001b[0;32melse\u001b[0m\u001b[0;34m:\u001b[0m\u001b[0;34m\u001b[0m\u001b[0m\n\u001b[1;32m   1047\u001b[0m             \u001b[0;32mif\u001b[0m \u001b[0mengine\u001b[0m \u001b[0;34m==\u001b[0m \u001b[0;34m'python'\u001b[0m\u001b[0;34m:\u001b[0m\u001b[0;34m\u001b[0m\u001b[0m\n",
      "\u001b[0;32m/usr/local/lib/python3.6/dist-packages/pandas/io/parsers.py\u001b[0m in \u001b[0;36m__init__\u001b[0;34m(self, src, **kwds)\u001b[0m\n\u001b[1;32m   1682\u001b[0m         \u001b[0mkwds\u001b[0m\u001b[0;34m[\u001b[0m\u001b[0;34m'allow_leading_cols'\u001b[0m\u001b[0;34m]\u001b[0m \u001b[0;34m=\u001b[0m \u001b[0mself\u001b[0m\u001b[0;34m.\u001b[0m\u001b[0mindex_col\u001b[0m \u001b[0;32mis\u001b[0m \u001b[0;32mnot\u001b[0m \u001b[0;32mFalse\u001b[0m\u001b[0;34m\u001b[0m\u001b[0m\n\u001b[1;32m   1683\u001b[0m \u001b[0;34m\u001b[0m\u001b[0m\n\u001b[0;32m-> 1684\u001b[0;31m         \u001b[0mself\u001b[0m\u001b[0;34m.\u001b[0m\u001b[0m_reader\u001b[0m \u001b[0;34m=\u001b[0m \u001b[0mparsers\u001b[0m\u001b[0;34m.\u001b[0m\u001b[0mTextReader\u001b[0m\u001b[0;34m(\u001b[0m\u001b[0msrc\u001b[0m\u001b[0;34m,\u001b[0m \u001b[0;34m**\u001b[0m\u001b[0mkwds\u001b[0m\u001b[0;34m)\u001b[0m\u001b[0;34m\u001b[0m\u001b[0m\n\u001b[0m\u001b[1;32m   1685\u001b[0m \u001b[0;34m\u001b[0m\u001b[0m\n\u001b[1;32m   1686\u001b[0m         \u001b[0;31m# XXX\u001b[0m\u001b[0;34m\u001b[0m\u001b[0;34m\u001b[0m\u001b[0m\n",
      "\u001b[0;32mpandas/_libs/parsers.pyx\u001b[0m in \u001b[0;36mpandas._libs.parsers.TextReader.__cinit__\u001b[0;34m()\u001b[0m\n",
      "\u001b[0;32mpandas/_libs/parsers.pyx\u001b[0m in \u001b[0;36mpandas._libs.parsers.TextReader._setup_parser_source\u001b[0;34m()\u001b[0m\n",
      "\u001b[0;31mFileNotFoundError\u001b[0m: File b'10K_data.csv' does not exist"
     ]
    }
   ],
   "source": [
    "fundamental_data = pd.read_csv('10K_data.csv')\n",
    "price_data = pd.read_csv('./fundamental_data/price_data')"
   ]
  },
  {
   "cell_type": "code",
   "execution_count": 7,
   "metadata": {},
   "outputs": [
    {
     "data": {
      "text/plain": [
       "[None, None, None, None, None, None]"
      ]
     },
     "execution_count": 7,
     "metadata": {},
     "output_type": "execute_result"
    }
   ],
   "source": [
    "# Some price data are removed\n",
    "to_drop_for_insufficient_data = [ticker for ticker in price_data if len(price_data[ticker][price_data[ticker].isnull()]) > 250]\n",
    "\n",
    "[price_data.drop(ticker, axis=1, inplace=True) for ticker in to_drop_for_insufficient_data]"
   ]
  },
  {
   "cell_type": "code",
   "execution_count": 10,
   "metadata": {},
   "outputs": [],
   "source": [
    "delta_price = price_data.iloc[:,3:].pct_change()\n",
    "delta_price.dropna(inplace=True)\n",
    "\n",
    "def sharp_ratio(rets, day_counts=250):\n",
    "    return rets.mean() / rets.std() * np.sqrt(day_counts)\n",
    "\n",
    "sharp_rolled = \\\n",
    "    delta_price.rolling(250).apply(sharp_ratio).dropna()\n",
    "mean = delta_price.rolling(250).mean().dropna() * np.sqrt(250)\n",
    "vol = delta_price.rolling(250).std().dropna() * np.sqrt(250)"
   ]
  },
  {
   "cell_type": "code",
   "execution_count": 12,
   "metadata": {
    "scrolled": true
   },
   "outputs": [
    {
     "data": {
      "text/plain": [
       "(736, 384)"
      ]
     },
     "execution_count": 12,
     "metadata": {},
     "output_type": "execute_result"
    }
   ],
   "source": [
    "sharp_rolled.shape"
   ]
  },
  {
   "cell_type": "code",
   "execution_count": 46,
   "metadata": {},
   "outputs": [],
   "source": [
    "sharp_rolled.to_csv('./fundamental_data/sharp_ratio_rolled')"
   ]
  },
  {
   "cell_type": "code",
   "execution_count": 25,
   "metadata": {},
   "outputs": [
    {
     "data": {
      "text/html": [
       "<div>\n",
       "<style scoped>\n",
       "    .dataframe tbody tr th:only-of-type {\n",
       "        vertical-align: middle;\n",
       "    }\n",
       "\n",
       "    .dataframe tbody tr th {\n",
       "        vertical-align: top;\n",
       "    }\n",
       "\n",
       "    .dataframe thead th {\n",
       "        text-align: right;\n",
       "    }\n",
       "</style>\n",
       "<table border=\"1\" class=\"dataframe\">\n",
       "  <thead>\n",
       "    <tr style=\"text-align: right;\">\n",
       "      <th></th>\n",
       "      <th>date</th>\n",
       "      <th>Unnamed: 0</th>\n",
       "      <th>date.1</th>\n",
       "      <th>mmm</th>\n",
       "      <th>abt</th>\n",
       "      <th>abbv</th>\n",
       "      <th>acn</th>\n",
       "      <th>atvi</th>\n",
       "      <th>ayi</th>\n",
       "      <th>adbe</th>\n",
       "      <th>...</th>\n",
       "      <th>wltw</th>\n",
       "      <th>wyn</th>\n",
       "      <th>wynn</th>\n",
       "      <th>xel</th>\n",
       "      <th>xrx</th>\n",
       "      <th>xlnx</th>\n",
       "      <th>xyl</th>\n",
       "      <th>yum</th>\n",
       "      <th>zbh</th>\n",
       "      <th>zts</th>\n",
       "    </tr>\n",
       "  </thead>\n",
       "  <tbody>\n",
       "    <tr>\n",
       "      <th>0</th>\n",
       "      <td>2013-01-02</td>\n",
       "      <td>0</td>\n",
       "      <td>2013-01-02</td>\n",
       "      <td>84.326</td>\n",
       "      <td>28.790</td>\n",
       "      <td>NaN</td>\n",
       "      <td>61.197</td>\n",
       "      <td>10.443</td>\n",
       "      <td>67.883</td>\n",
       "      <td>38.34</td>\n",
       "      <td>...</td>\n",
       "      <td>81.347</td>\n",
       "      <td>49.667</td>\n",
       "      <td>102.54</td>\n",
       "      <td>23.068</td>\n",
       "      <td>25.371</td>\n",
       "      <td>32.865</td>\n",
       "      <td>25.544</td>\n",
       "      <td>43.725</td>\n",
       "      <td>64.960</td>\n",
       "      <td>NaN</td>\n",
       "    </tr>\n",
       "    <tr>\n",
       "      <th>1</th>\n",
       "      <td>2013-01-03</td>\n",
       "      <td>1</td>\n",
       "      <td>2013-01-03</td>\n",
       "      <td>84.229</td>\n",
       "      <td>29.885</td>\n",
       "      <td>NaN</td>\n",
       "      <td>60.974</td>\n",
       "      <td>10.505</td>\n",
       "      <td>68.039</td>\n",
       "      <td>37.75</td>\n",
       "      <td>...</td>\n",
       "      <td>82.178</td>\n",
       "      <td>49.914</td>\n",
       "      <td>103.67</td>\n",
       "      <td>23.002</td>\n",
       "      <td>25.371</td>\n",
       "      <td>32.802</td>\n",
       "      <td>25.460</td>\n",
       "      <td>43.996</td>\n",
       "      <td>65.890</td>\n",
       "      <td>NaN</td>\n",
       "    </tr>\n",
       "    <tr>\n",
       "      <th>2</th>\n",
       "      <td>2013-01-04</td>\n",
       "      <td>2</td>\n",
       "      <td>2013-01-04</td>\n",
       "      <td>84.851</td>\n",
       "      <td>29.706</td>\n",
       "      <td>28.810</td>\n",
       "      <td>61.311</td>\n",
       "      <td>10.657</td>\n",
       "      <td>67.932</td>\n",
       "      <td>38.13</td>\n",
       "      <td>...</td>\n",
       "      <td>82.155</td>\n",
       "      <td>50.571</td>\n",
       "      <td>104.91</td>\n",
       "      <td>23.086</td>\n",
       "      <td>25.089</td>\n",
       "      <td>32.346</td>\n",
       "      <td>25.425</td>\n",
       "      <td>44.480</td>\n",
       "      <td>66.224</td>\n",
       "      <td>NaN</td>\n",
       "    </tr>\n",
       "    <tr>\n",
       "      <th>3</th>\n",
       "      <td>2013-01-07</td>\n",
       "      <td>3</td>\n",
       "      <td>2013-01-07</td>\n",
       "      <td>84.959</td>\n",
       "      <td>29.947</td>\n",
       "      <td>28.869</td>\n",
       "      <td>61.047</td>\n",
       "      <td>10.667</td>\n",
       "      <td>67.688</td>\n",
       "      <td>37.94</td>\n",
       "      <td>...</td>\n",
       "      <td>81.912</td>\n",
       "      <td>50.443</td>\n",
       "      <td>105.25</td>\n",
       "      <td>22.841</td>\n",
       "      <td>25.512</td>\n",
       "      <td>32.209</td>\n",
       "      <td>25.090</td>\n",
       "      <td>44.199</td>\n",
       "      <td>66.389</td>\n",
       "      <td>NaN</td>\n",
       "    </tr>\n",
       "    <tr>\n",
       "      <th>4</th>\n",
       "      <td>2013-01-08</td>\n",
       "      <td>4</td>\n",
       "      <td>2013-01-08</td>\n",
       "      <td>84.969</td>\n",
       "      <td>29.955</td>\n",
       "      <td>28.242</td>\n",
       "      <td>61.400</td>\n",
       "      <td>10.485</td>\n",
       "      <td>64.241</td>\n",
       "      <td>38.14</td>\n",
       "      <td>...</td>\n",
       "      <td>81.513</td>\n",
       "      <td>50.480</td>\n",
       "      <td>105.17</td>\n",
       "      <td>22.885</td>\n",
       "      <td>25.476</td>\n",
       "      <td>31.554</td>\n",
       "      <td>24.784</td>\n",
       "      <td>42.344</td>\n",
       "      <td>66.485</td>\n",
       "      <td>NaN</td>\n",
       "    </tr>\n",
       "  </tbody>\n",
       "</table>\n",
       "<p>5 rows × 387 columns</p>\n",
       "</div>"
      ],
      "text/plain": [
       "         date  Unnamed: 0      date.1     mmm     abt    abbv     acn    atvi  \\\n",
       "0  2013-01-02           0  2013-01-02  84.326  28.790     NaN  61.197  10.443   \n",
       "1  2013-01-03           1  2013-01-03  84.229  29.885     NaN  60.974  10.505   \n",
       "2  2013-01-04           2  2013-01-04  84.851  29.706  28.810  61.311  10.657   \n",
       "3  2013-01-07           3  2013-01-07  84.959  29.947  28.869  61.047  10.667   \n",
       "4  2013-01-08           4  2013-01-08  84.969  29.955  28.242  61.400  10.485   \n",
       "\n",
       "      ayi   adbe ...     wltw     wyn    wynn     xel     xrx    xlnx     xyl  \\\n",
       "0  67.883  38.34 ...   81.347  49.667  102.54  23.068  25.371  32.865  25.544   \n",
       "1  68.039  37.75 ...   82.178  49.914  103.67  23.002  25.371  32.802  25.460   \n",
       "2  67.932  38.13 ...   82.155  50.571  104.91  23.086  25.089  32.346  25.425   \n",
       "3  67.688  37.94 ...   81.912  50.443  105.25  22.841  25.512  32.209  25.090   \n",
       "4  64.241  38.14 ...   81.513  50.480  105.17  22.885  25.476  31.554  24.784   \n",
       "\n",
       "      yum     zbh  zts  \n",
       "0  43.725  64.960  NaN  \n",
       "1  43.996  65.890  NaN  \n",
       "2  44.480  66.224  NaN  \n",
       "3  44.199  66.389  NaN  \n",
       "4  42.344  66.485  NaN  \n",
       "\n",
       "[5 rows x 387 columns]"
      ]
     },
     "execution_count": 25,
     "metadata": {},
     "output_type": "execute_result"
    }
   ],
   "source": [
    "price_data.head()"
   ]
  },
  {
   "cell_type": "code",
   "execution_count": 29,
   "metadata": {},
   "outputs": [],
   "source": [
    "indecies = list(delta_price.index)\n",
    "\n",
    "dates = [price_data['date'][index] for index in indecies]"
   ]
  },
  {
   "cell_type": "code",
   "execution_count": 30,
   "metadata": {},
   "outputs": [
    {
     "data": {
      "text/plain": [
       "985"
      ]
     },
     "execution_count": 30,
     "metadata": {},
     "output_type": "execute_result"
    }
   ],
   "source": [
    "len(dates)"
   ]
  },
  {
   "cell_type": "code",
   "execution_count": 14,
   "metadata": {},
   "outputs": [],
   "source": [
    "# Recording rolling_correlations : 20 days correlation\n",
    "rolling_correlations = [np.corrcoef(delta_price.iloc[index-20: index+1].values.T) for index in range(20, delta_price.shape[0])]"
   ]
  },
  {
   "cell_type": "code",
   "execution_count": 16,
   "metadata": {},
   "outputs": [
    {
     "data": {
      "text/plain": [
       "965"
      ]
     },
     "execution_count": 16,
     "metadata": {},
     "output_type": "execute_result"
    }
   ],
   "source": [
    "len(rolling_correlations)"
   ]
  },
  {
   "cell_type": "code",
   "execution_count": 39,
   "metadata": {},
   "outputs": [],
   "source": [
    "correlation_dfs = {}\n",
    "# Every 50 correlation\n",
    "for index in range(0,len(rolling_correlations), 50):\n",
    "    correlation_dfs[index] = rolling_correlations[index]"
   ]
  },
  {
   "cell_type": "code",
   "execution_count": 40,
   "metadata": {},
   "outputs": [
    {
     "name": "stdout",
     "output_type": "stream",
     "text": [
      "[0, 50, 100, 150, 200, 250, 300, 350, 400, 450, 500, 550, 600, 650, 700, 750, 800, 850, 900, 950]\n"
     ]
    }
   ],
   "source": [
    "keys = list(correlation_dfs.keys())\n",
    "print(keys)"
   ]
  },
  {
   "cell_type": "code",
   "execution_count": 41,
   "metadata": {},
   "outputs": [],
   "source": [
    "for key in keys:\n",
    "    correlation_dfs[dates[key]] = correlation_dfs.pop(key)"
   ]
  },
  {
   "cell_type": "code",
   "execution_count": 42,
   "metadata": {},
   "outputs": [
    {
     "data": {
      "text/plain": [
       "dict_keys(['2013-12-11', '2014-02-25', '2014-05-07', '2014-07-18', '2014-09-29', '2014-12-09', '2015-02-23', '2015-05-05', '2015-07-20', '2015-09-29', '2015-12-09', '2016-02-23', '2016-05-04', '2016-07-15', '2016-09-26', '2016-12-06', '2017-02-17', '2017-05-03', '2017-07-14', '2017-09-25'])"
      ]
     },
     "execution_count": 42,
     "metadata": {},
     "output_type": "execute_result"
    }
   ],
   "source": [
    "correlation_dfs.keys()"
   ]
  },
  {
   "cell_type": "code",
   "execution_count": 43,
   "metadata": {},
   "outputs": [
    {
     "data": {
      "text/plain": [
       "array([[1.        , 0.50756676, 0.36853303, ..., 0.11030911, 0.33873223,\n",
       "        0.29015084],\n",
       "       [0.50756676, 1.        , 0.09738407, ..., 0.28047818, 0.62303843,\n",
       "        0.32267988],\n",
       "       [0.36853303, 0.09738407, 1.        , ..., 0.15235781, 0.02488475,\n",
       "        0.19790093],\n",
       "       ...,\n",
       "       [0.11030911, 0.28047818, 0.15235781, ..., 1.        , 0.43980742,\n",
       "        0.32786016],\n",
       "       [0.33873223, 0.62303843, 0.02488475, ..., 0.43980742, 1.        ,\n",
       "        0.16202803],\n",
       "       [0.29015084, 0.32267988, 0.19790093, ..., 0.32786016, 0.16202803,\n",
       "        1.        ]])"
      ]
     },
     "execution_count": 43,
     "metadata": {},
     "output_type": "execute_result"
    }
   ],
   "source": [
    "correlation_dfs['2013-12-11']"
   ]
  },
  {
   "cell_type": "code",
   "execution_count": 45,
   "metadata": {},
   "outputs": [],
   "source": [
    "for key, value in correlation_dfs.items():\n",
    "    pd.DataFrame(value).to_csv(\n",
    "        './fundamental_data/{}_correlation_matrix'.format(key))"
   ]
  },
  {
   "cell_type": "code",
   "execution_count": null,
   "metadata": {},
   "outputs": [],
   "source": []
  }
 ],
 "metadata": {
  "kernelspec": {
   "display_name": "Python 3",
   "language": "python",
   "name": "python3"
  },
  "language_info": {
   "codemirror_mode": {
    "name": "ipython",
    "version": 3
   },
   "file_extension": ".py",
   "mimetype": "text/x-python",
   "name": "python",
   "nbconvert_exporter": "python",
   "pygments_lexer": "ipython3",
   "version": "3.6.3"
  }
 },
 "nbformat": 4,
 "nbformat_minor": 2
}
