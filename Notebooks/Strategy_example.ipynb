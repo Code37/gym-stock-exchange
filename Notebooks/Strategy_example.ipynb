{
 "cells": [
  {
   "cell_type": "code",
   "execution_count": 1,
   "metadata": {},
   "outputs": [
    {
     "data": {
      "text/plain": [
       "'/home/wbaik/Code/data_science/playground_pytorch/Notebooks'"
      ]
     },
     "execution_count": 1,
     "metadata": {},
     "output_type": "execute_result"
    }
   ],
   "source": [
    "pwd"
   ]
  },
  {
   "cell_type": "code",
   "execution_count": 2,
   "metadata": {},
   "outputs": [
    {
     "name": "stdout",
     "output_type": "stream",
     "text": [
      "/home/wbaik/Code/data_science/playground_pytorch\n"
     ]
    }
   ],
   "source": [
    "cd .."
   ]
  },
  {
   "cell_type": "code",
   "execution_count": 3,
   "metadata": {},
   "outputs": [],
   "source": [
    "import iex_utils"
   ]
  },
  {
   "cell_type": "code",
   "execution_count": 4,
   "metadata": {},
   "outputs": [],
   "source": [
    "import pandas as pd\n",
    "import numpy as np\n",
    "from iex_utils import create_df_from_symbols"
   ]
  },
  {
   "cell_type": "code",
   "execution_count": 5,
   "metadata": {},
   "outputs": [],
   "source": [
    "spx_table = pd.read_csv('./iexdata/10K_data.csv')\n",
    "sectors_list = list(set(spx_table['Sector']))\n",
    "by_sectors = spx_table.groupby('Sector')"
   ]
  },
  {
   "cell_type": "code",
   "execution_count": 6,
   "metadata": {},
   "outputs": [
    {
     "data": {
      "text/plain": [
       "'Materials'"
      ]
     },
     "execution_count": 6,
     "metadata": {},
     "output_type": "execute_result"
    }
   ],
   "source": [
    "sectors_list[0]"
   ]
  },
  {
   "cell_type": "code",
   "execution_count": 7,
   "metadata": {},
   "outputs": [],
   "source": [
    "random_sector = by_sectors.get_group(sectors_list[0])['Symbol'][:30]\n",
    "temp_df = create_df_from_symbols(*random_sector)"
   ]
  },
  {
   "cell_type": "code",
   "execution_count": 9,
   "metadata": {},
   "outputs": [],
   "source": [
    "columns_to_drop = list(filter(lambda x: 'close' not in x, temp_df.columns))"
   ]
  },
  {
   "cell_type": "code",
   "execution_count": 10,
   "metadata": {},
   "outputs": [],
   "source": [
    "temp_df.drop(columns_to_drop, axis=1, inplace=True)"
   ]
  },
  {
   "cell_type": "code",
   "execution_count": 23,
   "metadata": {},
   "outputs": [],
   "source": [
    "from compute_ratios import heatmap\n",
    "from collections import defaultdict\n",
    "%matplotlib inline"
   ]
  },
  {
   "cell_type": "code",
   "execution_count": 27,
   "metadata": {},
   "outputs": [],
   "source": [
    "def some_strategy(prices, lb, hold):\n",
    "    \n",
    "    def get_portfolio_logic(price, lookback, lag):\n",
    "        momentum = price.shift(lag).pct_change(lookback)\n",
    "        ranks = momentum.rank(axis=1, ascending=False)\n",
    "        best_ten = lambda x: list(map(lambda y: y \n",
    "                                      if y > price.shape[1] - 10 \n",
    "                                      else 0, x))\n",
    "        ranks = ranks.apply(best_ten, axis=1)\n",
    "        return ranks\n",
    "    \n",
    "    compound = lambda x: (1 + x).prod() - 1\n",
    "    daily_sr = lambda x: x.mean() / x.std()\n",
    "    \n",
    "    # Compute portfolio weights\n",
    "    freq = '%dB' % hold\n",
    "    port = get_portfolio_logic(prices, lb, lag=0)\n",
    "\n",
    "    daily_rets = prices.pct_change()\n",
    "\n",
    "    # `resample` merely loops over for each freq\n",
    "    # Takes the first value of the resampled\n",
    "    port = port.shift(1).resample(freq).first() # shift 1 for trading at the close\n",
    "    returns = daily_rets.resample(freq).apply(compound)\n",
    "    port_rets = (port * returns).sum(axis=1)\n",
    "\n",
    "    return daily_sr(port_rets) * np.sqrt(252 / hold)"
   ]
  },
  {
   "cell_type": "code",
   "execution_count": 28,
   "metadata": {},
   "outputs": [],
   "source": [
    "lookbacks = range(50, 100, 5)\n",
    "holdings = range(50, 100, 5)\n",
    "dd = defaultdict(dict) # dictionary of dictionary\n",
    "\n",
    "for lb in lookbacks:\n",
    "    for hold in holdings:\n",
    "        dd[lb][hold] = some_strategy(temp_df, lb, hold)\n",
    "\n",
    "ddf = pd.DataFrame(dd)\n",
    "ddf.index.name = 'Holding Period'\n",
    "ddf.columns.name = 'Lookback Period'"
   ]
  },
  {
   "cell_type": "code",
   "execution_count": 26,
   "metadata": {},
   "outputs": [
    {
     "data": {
      "image/png": "[encoded data removed]",
      "text/plain": [
       "<matplotlib.figure.Figure at 0x7f403da69ac8>"
      ]
     },
     "metadata": {},
     "output_type": "display_data"
    }
   ],
   "source": [
    "heatmap(ddf)"
   ]
  },
  {
   "cell_type": "code",
   "execution_count": null,
   "metadata": {},
   "outputs": [],
   "source": []
  }
 ],
 "metadata": {
  "kernelspec": {
   "display_name": "Python 3",
   "language": "python",
   "name": "python3"
  },
  "language_info": {
   "codemirror_mode": {
    "name": "ipython",
    "version": 3
   },
   "file_extension": ".py",
   "mimetype": "text/x-python",
   "name": "python",
   "nbconvert_exporter": "python",
   "pygments_lexer": "ipython3",
   "version": "3.6.3"
  }
 },
 "nbformat": 4,
 "nbformat_minor": 2
}
